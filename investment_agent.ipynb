{
 "cells": [
  {
   "cell_type": "code",
   "execution_count": 3,
   "id": "e51d9717",
   "metadata": {},
   "outputs": [],
   "source": [
    "import os\n",
    "import dotenv\n",
    "dotenv.load_dotenv()\n",
    "\n",
    "HUGGINGFACE_API_TOKEN = os.getenv(\"HUGGINGFACE_API_TOKEN\")"
   ]
  },
  {
   "cell_type": "code",
   "execution_count": null,
   "id": "262098df",
   "metadata": {},
   "outputs": [],
   "source": [
    "from langchain_huggingface import HuggingFaceEndpoint, ChatHuggingFace\n",
    "from langchain.prompts import PromptTemplate\n",
    "\n",
    "llm = HuggingFaceEndpoint(repo_id='deepseek-ai/DeepSeek-V3.1-Terminus', \n",
    "                          temperature = 0.2,\n",
    "                          task=\"text-generation\",\n",
    "                          )\n",
    "\n",
    "chatmodel = ChatHuggingFace(llm=llm)\n",
    "\n",
    "template = \"\"\"\n",
    "            i am a {gender} and i am {yearsOld} old, i have a capital of {capital} Ghana Cedis to invest, \n",
    "            give me a list of top {numberOfBusiness} i can invest in {country}, i am passionate about {passion}.\n",
    "            give me the answer without commentary\n",
    "            \"\"\"\n",
    "prompt = PromptTemplate(input_variables=['gender', 'yearsOld', 'capital', 'country', 'numberOfBusiness', 'passion'], template=template)\n",
    "\n",
    "chain = prompt | chatmodel\n",
    "\n",
    "response = chain.invoke({'gender':'male', 'yearsOld':36, 'capital':50000, 'numberOfBusiness': 2, 'country':'Ghana', 'passion':'food and computers' })"
   ]
  },
  {
   "cell_type": "code",
   "execution_count": 17,
   "id": "4096bf71",
   "metadata": {},
   "outputs": [
    {
     "name": "stdout",
     "output_type": "stream",
     "text": [
      "1.  **Food & Agriculture (AgriTech):** Invest in a modern, technology-driven poultry farm or an urban vegetable farm using hydroponics. Your capital can cover high-quality chicks, feed, housing, and automated systems for water and climate control, merging your passion for food with computer-based management and monitoring.\n",
      "\n",
      "2.  **Computer & IT Services:** Establish a specialized computer services business focusing on cybersecurity, data backup solutions, and IT support for small to medium-sized businesses in your local area. This directly leverages your passion and meets a growing market need.\n"
     ]
    }
   ],
   "source": [
    "print(response.content)"
   ]
  }
 ],
 "metadata": {
  "kernelspec": {
   "display_name": "invenv (3.13.7)",
   "language": "python",
   "name": "python3"
  },
  "language_info": {
   "codemirror_mode": {
    "name": "ipython",
    "version": 3
   },
   "file_extension": ".py",
   "mimetype": "text/x-python",
   "name": "python",
   "nbconvert_exporter": "python",
   "pygments_lexer": "ipython3",
   "version": "3.13.7"
  }
 },
 "nbformat": 4,
 "nbformat_minor": 5
}
