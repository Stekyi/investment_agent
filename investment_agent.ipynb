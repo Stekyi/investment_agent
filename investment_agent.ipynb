{
 "cells": [
  {
   "cell_type": "code",
   "execution_count": 3,
   "id": "e51d9717",
   "metadata": {},
   "outputs": [],
   "source": [
    "import os\n",
    "import dotenv\n",
    "dotenv.load_dotenv()\n",
    "\n",
    "HUGGINGFACE_API_TOKEN = os.getenv(\"HUGGINGFACE_API_TOKEN\")"
   ]
  },
  {
   "cell_type": "code",
   "execution_count": 18,
   "id": "262098df",
   "metadata": {},
   "outputs": [],
   "source": [
    "from langchain_huggingface import HuggingFaceEndpoint, ChatHuggingFace\n",
    "from langchain.prompts import PromptTemplate\n",
    "\n",
    "llm = HuggingFaceEndpoint(repo_id='deepseek-ai/DeepSeek-V3.1-Terminus', \n",
    "                          temperature = 0.2,\n",
    "                          task=\"text-generation\",\n",
    "                          )\n",
    "\n",
    "chatmodel = ChatHuggingFace(llm=llm)\n",
    "\n",
    "template = \"\"\"\n",
    "            i am a {gender} and i am {yearsOld} old, i have a capital of {capital} Ghana Cedis to invest, \n",
    "            give me a list of top {numberOfBusiness} i can invest in {country}, i am passionate about {passion}.\n",
    "            give me the answer without commentary\n",
    "            \"\"\"\n",
    "prompt = PromptTemplate(input_variables=['gender', 'yearsOld', 'capital', 'country', 'numberOfBusiness', 'passion'], template=template)\n",
    "\n",
    "chain = prompt | chatmodel\n",
    "\n",
    "response = chain.invoke({'gender':'male', 'yearsOld':36, 'capital':50000, 'numberOfBusiness': 2, 'country':'Ghana', 'passion':'food and computers' })"
   ]
  },
  {
   "cell_type": "code",
   "execution_count": 19,
   "id": "4096bf71",
   "metadata": {},
   "outputs": [
    {
     "name": "stdout",
     "output_type": "stream",
     "text": [
      "1.  **Food Business - Specialized Cloud Kitchen & Delivery Service:** Leverage your passion for food by starting a cloud kitchen that focuses on a specific, high-demand cuisine (e.g., authentic local dishes, healthy meals, or gourmet burgers). Use a portion of your capital for a well-equipped kitchen space, professional staff, and high-quality ingredients. The majority of your initial investment should be allocated to a strong digital marketing campaign, a user-friendly website for direct ordering, and partnerships with major delivery apps (Glovo, Bolt Food) to maximize reach with low overhead compared to a traditional restaurant.\n",
      "\n",
      "2.  **Computer Business - IT Support & Hardware Resale for Small Businesses:** Combine your interest in computers with a clear market need. Establish a small enterprise that provides affordable IT support, software installation, and troubleshooting services for local small and medium-sized businesses. Simultaneously, use part of your capital to import and resell reliable, refurbished or new computer accessories (monitors, keyboards, printers) and components, catering to the same clientele. This creates two complementary revenue streams from one business operation.\n"
     ]
    }
   ],
   "source": [
    "print(response.content)"
   ]
  }
 ],
 "metadata": {
  "kernelspec": {
   "display_name": "invenv (3.13.7)",
   "language": "python",
   "name": "python3"
  },
  "language_info": {
   "codemirror_mode": {
    "name": "ipython",
    "version": 3
   },
   "file_extension": ".py",
   "mimetype": "text/x-python",
   "name": "python",
   "nbconvert_exporter": "python",
   "pygments_lexer": "ipython3",
   "version": "3.13.7"
  }
 },
 "nbformat": 4,
 "nbformat_minor": 5
}
